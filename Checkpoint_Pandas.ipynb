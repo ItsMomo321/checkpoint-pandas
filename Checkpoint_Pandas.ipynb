{
  "nbformat": 4,
  "nbformat_minor": 0,
  "metadata": {
    "colab": {
      "name": "Checkpoint Pandas.ipynb",
      "private_outputs": true,
      "provenance": []
    },
    "kernelspec": {
      "name": "python3",
      "display_name": "Python 3"
    },
    "language_info": {
      "name": "python"
    }
  },
  "cells": [
    {
      "cell_type": "code",
      "metadata": {
        "id": "ZAewsQ4atqen"
      },
      "source": [
        "import numpy as np\n",
        "exam_data= {'name':['Anastasia','Dima','Katherine','James','Emily','Michael','Matthew','Laura','Kevin','Jonas'],\n",
        "'score': [12.5, 9, 16.5, np.nan, 9, 20, 14.5, np.nan, 8, 19],\n",
        "'attempts': [1, 3, 2, 3, 2, 3, 1, 1, 2, 1],\n",
        "'qualify': ['yes', 'no', 'yes', 'no', 'no', 'yes', 'yes', 'no', 'no', 'yes']}\n",
        "labels = ['a', 'b', 'c', 'd', 'e', 'f', 'g', 'h', 'i', 'j']"
      ],
      "execution_count": null,
      "outputs": []
    },
    {
      "cell_type": "code",
      "metadata": {
        "id": "YIsBTCKMtxty"
      },
      "source": [
        "import pandas as pd"
      ],
      "execution_count": null,
      "outputs": []
    },
    {
      "cell_type": "code",
      "metadata": {
        "id": "mmEKGmCet4mM"
      },
      "source": [
        "df= pd.DataFrame(exam_data)\n",
        "df"
      ],
      "execution_count": null,
      "outputs": []
    },
    {
      "cell_type": "code",
      "metadata": {
        "id": "eHp5M02MuLkU"
      },
      "source": [
        "df.head()"
      ],
      "execution_count": null,
      "outputs": []
    },
    {
      "cell_type": "code",
      "metadata": {
        "id": "vU7YSJesuZHs"
      },
      "source": [
        "df.dropna(inplace= True)\n",
        "df"
      ],
      "execution_count": null,
      "outputs": []
    },
    {
      "cell_type": "code",
      "metadata": {
        "id": "5jOc6dpnv2G-"
      },
      "source": [
        "df[['name','score']]"
      ],
      "execution_count": null,
      "outputs": []
    },
    {
      "cell_type": "code",
      "metadata": {
        "id": "UoeN09r3wV7u"
      },
      "source": [
        "k= {'name':[\"Suresh\"],\n",
        "    'score':[\"15.5\"],\n",
        "    'qualify':[\"yes\"],\n",
        "    'attemps':[\"1\"]}\n",
        "df1= pd.DataFrame(k)\n",
        "exam_data= pd.concat([df,df1])\n",
        "exam_data"
      ],
      "execution_count": null,
      "outputs": []
    },
    {
      "cell_type": "code",
      "metadata": {
        "id": "GpFHuN_31KjX"
      },
      "source": [
        "df[['name','score','qualify']]"
      ],
      "execution_count": null,
      "outputs": []
    },
    {
      "cell_type": "code",
      "metadata": {
        "id": "JgKffHef2SiL"
      },
      "source": [
        "exam_data.drop('attempts',axis=1,inplace= True)"
      ],
      "execution_count": null,
      "outputs": []
    },
    {
      "cell_type": "code",
      "metadata": {
        "id": "YsTzaGgC3s84"
      },
      "source": [
        "exam_data"
      ],
      "execution_count": null,
      "outputs": []
    },
    {
      "cell_type": "code",
      "metadata": {
        "id": "5gUhan3p36J2"
      },
      "source": [
        "Success= []\n",
        "for i in df['score']:\n",
        "    if i>10:\n",
        "      i= 1\n",
        "      Success.append(i)\n",
        "    else:\n",
        "      i=0\n",
        "      Success.append(i)\n",
        "print(Success)\n",
        "df[\"SUCCESS\"]= Success\n",
        "df"
      ],
      "execution_count": null,
      "outputs": []
    },
    {
      "cell_type": "code",
      "metadata": {
        "id": "wC3zbwoa7p5h"
      },
      "source": [
        "exam_data.to_csv\n",
        "(\"my_data.csv\")"
      ],
      "execution_count": null,
      "outputs": []
    }
  ]
}